{
 "cells": [
  {
   "cell_type": "markdown",
   "metadata": {},
   "source": [
    "# Solving Systems of Linear Equations with NumPy - Lab\n",
    "\n",
    "## Introduction \n",
    "\n",
    "Now you've gathered all the required skills needed to solve systems of linear equations. You saw why there was a need to calculate inverses of matrices, followed by matrix multiplication to figure out the values of unknown variables. \n",
    "\n",
    "The exercises in this lab present some problems that can be converted into a system of linear equations. \n",
    "\n",
    "## Objectives\n",
    "You will be able to:\n",
    "\n",
    "- Use matrix algebra and NumPy to solve a system of linear equations given a real-life example \n",
    "- Use NumPy's linear algebra solver to solve for systems of linear equations\n",
    "\n",
    "## Exercise 1\n",
    "\n",
    "A coffee shop is having a sale on coffee and tea. \n",
    "\n",
    "On day 1, 29 bags of coffee and 41 bags of tea were sold, for a total of 490 dollars.\n",
    "\n",
    "On day 2, they sold 23 bags of coffee and 41 bags of tea, for which customers paid a total of 448 dollars.  \n",
    "\n",
    "How much does each bag cost?"
   ]
  },
  {
   "cell_type": "code",
   "execution_count": 5,
   "metadata": {
    "ExecuteTime": {
     "end_time": "2020-05-21T17:43:18.754443Z",
     "start_time": "2020-05-21T17:43:18.745749Z"
    }
   },
   "outputs": [
    {
     "name": "stdout",
     "output_type": "stream",
     "text": [
      "[[29 41]\n",
      " [23 41]]\n",
      "[490 448]\n",
      "[[ 0.16666667 -0.16666667]\n",
      " [-0.09349593  0.11788618]]\n",
      "[7. 7.]\n"
     ]
    }
   ],
   "source": [
    "# Create and solve the relevant system of equations\n",
    "# 29*c + 41*t = 490\n",
    "# 23*c + 41*t = 448\n",
    "\n",
    "A = np.array([[29, 41],\n",
    "             [23, 41]])\n",
    "print(A)\n",
    "B = np.array([490, 448]).T\n",
    "print(B)\n",
    "A_inv = np.linalg.inv(A)\n",
    "print(A_inv)\n",
    "X = A_inv.dot(B)\n",
    "print(X)"
   ]
  },
  {
   "cell_type": "code",
   "execution_count": 6,
   "metadata": {
    "ExecuteTime": {
     "end_time": "2020-05-21T17:44:40.277229Z",
     "start_time": "2020-05-21T17:44:40.274348Z"
    }
   },
   "outputs": [],
   "source": [
    "# Describe your result\n",
    "#coffee and tea each cost $7 per bag"
   ]
  },
  {
   "cell_type": "markdown",
   "metadata": {},
   "source": [
    "## Exercise 2\n",
    "\n",
    "The cost of admission to a popular music concert was 162 dollars for 12 children and 3 adults. \n",
    "\n",
    "The admission was 122 dollars for 8 children and 3 adults in the same music concert. \n",
    "\n",
    "How much was the admission for each child and adult?"
   ]
  },
  {
   "cell_type": "code",
   "execution_count": 7,
   "metadata": {
    "ExecuteTime": {
     "end_time": "2020-05-21T17:46:33.996959Z",
     "start_time": "2020-05-21T17:46:33.990277Z"
    }
   },
   "outputs": [
    {
     "name": "stdout",
     "output_type": "stream",
     "text": [
      "[10. 14.]\n"
     ]
    }
   ],
   "source": [
    "# Create and solve the relevant system of equations\n",
    "# 12c + 3a = 162\n",
    "# 8c + 3a = 122\n",
    "\n",
    "A = np.array([[12, 3],\n",
    "             [8, 3]])\n",
    "B = np.array([162, 122]).T\n",
    "\n",
    "A_inv = np.linalg.inv(A)\n",
    "\n",
    "X = A_inv.dot(B)\n",
    "print(X)\n"
   ]
  },
  {
   "cell_type": "code",
   "execution_count": 8,
   "metadata": {
    "ExecuteTime": {
     "end_time": "2020-05-21T17:47:06.585224Z",
     "start_time": "2020-05-21T17:47:06.582212Z"
    }
   },
   "outputs": [],
   "source": [
    "# Describe your result\n",
    "# children's tickest are $10 and adults are $14"
   ]
  },
  {
   "cell_type": "markdown",
   "metadata": {},
   "source": [
    "## Exercise 3\n",
    "\n",
    "You want to make a soup containing tomatoes, carrots, and onions.\n",
    "\n",
    "Suppose you don't know the exact mix to put in, but you know there are 7 individual pieces of vegetables, and there are twice as many tomatoes as onions, and that the 7 pieces of vegetables cost 5.25 USD in total. \n",
    "You also know that onions cost 0.5 USD each, tomatoes cost 0.75 USD and carrots cost 1.25 USD each.\n",
    "\n",
    "Create a system of equations to find out exactly how many of each of the vegetables are in your soup."
   ]
  },
  {
   "cell_type": "code",
   "execution_count": 12,
   "metadata": {
    "ExecuteTime": {
     "end_time": "2020-05-21T17:56:53.890081Z",
     "start_time": "2020-05-21T17:56:53.881341Z"
    }
   },
   "outputs": [
    {
     "name": "stdout",
     "output_type": "stream",
     "text": [
      "[[2.   1.25]\n",
      " [3.   1.  ]]\n",
      "[5.25 7.  ]\n",
      "[[-0.57142857  0.71428571]\n",
      " [ 1.71428571 -1.14285714]]\n",
      "[2. 1.]\n"
     ]
    }
   ],
   "source": [
    "# Create and solve the relevant system of equations\n",
    "\n",
    "# t = 2*o\n",
    "# 0.5*o + 0.75*t + 1.25*c = 5.25\n",
    "# o + t + c = 7\n",
    "# substitute for t in the equations so that eq1 will be square\n",
    "# 0.5*o + 0.75*2*o + 1.25*c = 5.25 = 2*o + 1.25*c = 5.25\n",
    "# o + 2*o + c = 7 = 3*o + c\n",
    "\n",
    "\n",
    "A = np.array([[2, 1.25],\n",
    "             [3, 1]])\n",
    "print(A)\n",
    "B = np.array([5.25, 7]).T\n",
    "print(B)\n",
    "A_inv = np.linalg.inv(A)\n",
    "print(A_inv)\n",
    "X = A_inv.dot(B)\n",
    "print(X)\n"
   ]
  },
  {
   "cell_type": "code",
   "execution_count": null,
   "metadata": {},
   "outputs": [],
   "source": [
    "# Describe your result\n",
    "# 2 onions, 1 carrot, 4 tomatoes (2 * onions)"
   ]
  },
  {
   "cell_type": "markdown",
   "metadata": {},
   "source": [
    "## Exercise 4\n",
    "\n",
    "A landlord owns 3 properties: a 1-bedroom, a 2-bedroom, and a 3-bedroom house. \n",
    "\n",
    "The total rent he receives is 1240 USD. \n",
    "\n",
    "He needs to make some repairs, where those repairs cost 10% of the 1-bedroom house’s rent. The 2-bedroom repairs cost 20% of the 2-bedroom rental price and 30% of the 3-bedroom house's rent for its repairs.  The total repair bill for all three houses was 276 USD. \n",
    "\n",
    "The 3-bedroom house's rent is twice the 1-bedroom house’s rent. \n",
    "\n",
    "How much is the individual rent for three houses?"
   ]
  },
  {
   "cell_type": "code",
   "execution_count": 13,
   "metadata": {
    "ExecuteTime": {
     "end_time": "2020-05-21T18:04:10.379499Z",
     "start_time": "2020-05-21T18:04:10.372022Z"
    }
   },
   "outputs": [
    {
     "name": "stdout",
     "output_type": "stream",
     "text": [
      "[[3.  1. ]\n",
      " [0.7 0.2]]\n",
      "[1240  276]\n",
      "[280. 400.]\n"
     ]
    }
   ],
   "source": [
    "# Create and solve the relevant system of equations\n",
    "# 1 bedroom rent = x\n",
    "# 2 bedroom rent = y\n",
    "# 3 bedroom rent = z\n",
    "# x + y + z = 1240\n",
    "# 0.1*x + 0.2*y + 0.3*z = 276\n",
    "# z = 2*x\n",
    "# substitute for z in the two equations\n",
    "# x + y + 2x = 1240 = 3x + y\n",
    "# 0.1x + 0.2y + 0.3*2x = 276 = 0.7x + 0.2y\n",
    "\n",
    "A = np.array([[3, 1],\n",
    "             [0.7, 0.2]])\n",
    "print(A)\n",
    "B = np.array([1240, 276]).T\n",
    "print(B)\n",
    "X = np.linalg.solve(A, B)\n",
    "print(X)\n"
   ]
  },
  {
   "cell_type": "code",
   "execution_count": null,
   "metadata": {},
   "outputs": [],
   "source": [
    "# Describe your result\n",
    "# 1 bedroom rent is 280\n",
    "# 2 bedroom rent is 400\n",
    "# 3 bedroom rent is 560 (twice the 1 bedroom rent)"
   ]
  },
  {
   "cell_type": "markdown",
   "metadata": {},
   "source": [
    "**instead of substitution, could have made matrix A square by creating a third row**\n",
    "\n",
    "**z = 2*x**\n",
    "\n",
    "**move the vars to the left and add one for y multiplied by zero**\n",
    "\n",
    "**-2x + 0y + z = 0**"
   ]
  },
  {
   "cell_type": "markdown",
   "metadata": {},
   "source": [
    "## Summary\n",
    "In this lab, you learned how to use NumPy to solve linear equations by taking inverses and matrix multiplication and also using numpy's `solve()` function. You'll now take these skills forward and see how you can define a simple regression problem using linear algebra and solve it with Numpy. "
   ]
  }
 ],
 "metadata": {
  "kernelspec": {
   "display_name": "Python 3",
   "language": "python",
   "name": "python3"
  },
  "language_info": {
   "codemirror_mode": {
    "name": "ipython",
    "version": 3
   },
   "file_extension": ".py",
   "mimetype": "text/x-python",
   "name": "python",
   "nbconvert_exporter": "python",
   "pygments_lexer": "ipython3",
   "version": "3.6.9"
  },
  "toc": {
   "base_numbering": 1,
   "nav_menu": {},
   "number_sections": true,
   "sideBar": true,
   "skip_h1_title": false,
   "title_cell": "Table of Contents",
   "title_sidebar": "Contents",
   "toc_cell": false,
   "toc_position": {},
   "toc_section_display": true,
   "toc_window_display": false
  },
  "varInspector": {
   "cols": {
    "lenName": 16,
    "lenType": 16,
    "lenVar": 40
   },
   "kernels_config": {
    "python": {
     "delete_cmd_postfix": "",
     "delete_cmd_prefix": "del ",
     "library": "var_list.py",
     "varRefreshCmd": "print(var_dic_list())"
    },
    "r": {
     "delete_cmd_postfix": ") ",
     "delete_cmd_prefix": "rm(",
     "library": "var_list.r",
     "varRefreshCmd": "cat(var_dic_list()) "
    }
   },
   "types_to_exclude": [
    "module",
    "function",
    "builtin_function_or_method",
    "instance",
    "_Feature"
   ],
   "window_display": false
  }
 },
 "nbformat": 4,
 "nbformat_minor": 2
}
